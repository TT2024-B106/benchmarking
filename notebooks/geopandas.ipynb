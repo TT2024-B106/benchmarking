{
 "cells": [
  {
   "cell_type": "markdown",
   "id": "bf9b3679-7315-4d6a-8afc-8159730520e4",
   "metadata": {},
   "source": [
    "# Geopandas\n",
    "Principalmente es una extensión de la libreria pandas, que permite trabajar y analizar datos de forma práctica, Geopandas extiende esta funcionalidad para permitir operaciones espaciales en datos de tipo geométrico. Puede ser un gran sustituto para la base de datos PostGIS."
   ]
  },
  {
   "cell_type": "code",
   "execution_count": 4,
   "id": "3c9cbae6-cabd-4024-a291-c92d03d06ae8",
   "metadata": {},
   "outputs": [
    {
     "data": {
      "text/plain": [
       "(                     geometry\n",
       " 0  POINT (-99.13304 19.43331)\n",
       " 1  POINT (-99.13615 19.43419)\n",
       " 2  POINT (-99.13592 19.43544)\n",
       " 3  POINT (-99.13775 19.43571)\n",
       " 4  POINT (-99.14005 19.43604)\n",
       " 5  POINT (-99.14149 19.43639)\n",
       " 6  POINT (-99.14393 19.43572)\n",
       " 7  POINT (-99.14652 19.43723),\n",
       "                      geometry\n",
       " 0   POINT (-99.13294 19.4334)\n",
       " 1  POINT (-99.13515 19.43411)\n",
       " 2  POINT (-99.13755 19.43438)\n",
       " 3  POINT (-99.13984 19.43467)\n",
       " 4  POINT (-99.14107 19.43424)\n",
       " 5  POINT (-99.14402 19.43475)\n",
       " 6  POINT (-99.14485 19.43629)\n",
       " 7  POINT (-99.14652 19.43722))"
      ]
     },
     "execution_count": 4,
     "metadata": {},
     "output_type": "execute_result"
    }
   ],
   "source": [
    "import geopandas\n",
    "\n",
    "gdf1 = geopandas.read_file(\"geojsons/mx1.geojson\")\n",
    "gdf2 = geopandas.read_file(\"geojsons/mx3.geojson\")\n",
    "\n",
    "gdf1, gdf2"
   ]
  },
  {
   "cell_type": "markdown",
   "id": "eee06dea-a904-4dcb-abbd-2142248b82ef",
   "metadata": {},
   "source": [
    "## Cálculo de distancias con puntos de mismo tamaño"
   ]
  },
  {
   "cell_type": "code",
   "execution_count": 5,
   "id": "5062245d-3106-42ea-8a21-517e9ce8c3e2",
   "metadata": {},
   "outputs": [
    {
     "name": "stderr",
     "output_type": "stream",
     "text": [
      "/tmp/ipykernel_26585/372816186.py:1: UserWarning: Geometry is in a geographic CRS. Results from 'distance' are likely incorrect. Use 'GeoSeries.to_crs()' to re-project geometries to a projected CRS before this operation.\n",
      "\n",
      "  gdf1.distance(gdf2)\n"
     ]
    },
    {
     "data": {
      "text/plain": [
       "0    0.000139\n",
       "1    0.001007\n",
       "2    0.001941\n",
       "3    0.002334\n",
       "4    0.002067\n",
       "5    0.003017\n",
       "6    0.001084\n",
       "7    0.000014\n",
       "dtype: float64"
      ]
     },
     "execution_count": 5,
     "metadata": {},
     "output_type": "execute_result"
    }
   ],
   "source": [
    "gdf1.distance(gdf2)"
   ]
  },
  {
   "cell_type": "code",
   "execution_count": 6,
   "id": "eef05e6a-1c20-490a-85ad-9e712a55a139",
   "metadata": {},
   "outputs": [
    {
     "name": "stderr",
     "output_type": "stream",
     "text": [
      "/tmp/ipykernel_26585/1660621400.py:1: UserWarning: Geometry is in a geographic CRS. Results from 'hausdorff_distance' are likely incorrect. Use 'GeoSeries.to_crs()' to re-project geometries to a projected CRS before this operation.\n",
      "\n",
      "  gdf1.hausdorff_distance(gdf2), gdf1.frechet_distance(gdf2)\n",
      "/tmp/ipykernel_26585/1660621400.py:1: UserWarning: Geometry is in a geographic CRS. Results from 'frechet_distance' are likely incorrect. Use 'GeoSeries.to_crs()' to re-project geometries to a projected CRS before this operation.\n",
      "\n",
      "  gdf1.hausdorff_distance(gdf2), gdf1.frechet_distance(gdf2)\n"
     ]
    },
    {
     "data": {
      "text/plain": [
       "(0    0.000139\n",
       " 1    0.001007\n",
       " 2    0.001941\n",
       " 3    0.002334\n",
       " 4    0.002067\n",
       " 5    0.003017\n",
       " 6    0.001084\n",
       " 7    0.000014\n",
       " dtype: float64,\n",
       " 0    0.000139\n",
       " 1    0.001007\n",
       " 2    0.001941\n",
       " 3    0.002334\n",
       " 4    0.002067\n",
       " 5    0.003017\n",
       " 6    0.001084\n",
       " 7    0.000014\n",
       " dtype: float64)"
      ]
     },
     "execution_count": 6,
     "metadata": {},
     "output_type": "execute_result"
    }
   ],
   "source": [
    "gdf1.hausdorff_distance(gdf2), gdf1.frechet_distance(gdf2)"
   ]
  },
  {
   "cell_type": "markdown",
   "id": "6a1d5a59-a6e4-498f-b9d1-78dba87c5878",
   "metadata": {},
   "source": [
    "# Shapely\n",
    "Geopandas utiliza shapely directamente para realizar las operaciones geométricas. Shapely también puede cargar archivos GeoJSON y hacer el cálculo de las distancias:\n",
    "\n",
    "- Euclideanas\n",
    "- Hausdorff\n",
    "- Frechet"
   ]
  },
  {
   "cell_type": "code",
   "execution_count": 24,
   "id": "4cb1f4ea-e46a-4ef2-82e3-00dc63d04aca",
   "metadata": {},
   "outputs": [
    {
     "data": {
      "image/svg+xml": [
       "<svg xmlns=\"http://www.w3.org/2000/svg\" xmlns:xlink=\"http://www.w3.org/1999/xlink\" width=\"100.0\" height=\"100.0\" viewBox=\"-99.14706013905 19.43276782571803 0.014555071311889378 0.0050017300236504525\" preserveAspectRatio=\"xMinYMin meet\"><g transform=\"matrix(1,0,0,-1,0,38.87053738145971)\"><g><circle cx=\"-99.13304414445336\" cy=\"19.433306902433287\" r=\"0.00043665213935668135\" stroke=\"#555555\" stroke-width=\"0.00014555071311889378\" fill=\"#66cc99\" opacity=\"0.6\" /><circle cx=\"-99.13614956401031\" cy=\"19.434188293837337\" r=\"0.00043665213935668135\" stroke=\"#555555\" stroke-width=\"0.00014555071311889378\" fill=\"#66cc99\" opacity=\"0.6\" /><circle cx=\"-99.13592344122696\" cy=\"19.435439292777616\" r=\"0.00043665213935668135\" stroke=\"#555555\" stroke-width=\"0.00014555071311889378\" fill=\"#66cc99\" opacity=\"0.6\" /><circle cx=\"-99.13774749834515\" cy=\"19.435709393556962\" r=\"0.00043665213935668135\" stroke=\"#555555\" stroke-width=\"0.00014555071311889378\" fill=\"#66cc99\" opacity=\"0.6\" /><circle cx=\"-99.14005395073407\" cy=\"19.436036357056366\" r=\"0.00043665213935668135\" stroke=\"#555555\" stroke-width=\"0.00014555071311889378\" fill=\"#66cc99\" opacity=\"0.6\" /><circle cx=\"-99.14148606169485\" cy=\"19.436391751417318\" r=\"0.00043665213935668135\" stroke=\"#555555\" stroke-width=\"0.00014555071311889378\" fill=\"#66cc99\" opacity=\"0.6\" /><circle cx=\"-99.14392818775379\" cy=\"19.43572360937428\" r=\"0.00043665213935668135\" stroke=\"#555555\" stroke-width=\"0.00014555071311889378\" fill=\"#66cc99\" opacity=\"0.6\" /><circle cx=\"-99.14652106233474\" cy=\"19.437230479026425\" r=\"0.00043665213935668135\" stroke=\"#555555\" stroke-width=\"0.00014555071311889378\" fill=\"#66cc99\" opacity=\"0.6\" /></g></g></svg>"
      ],
      "text/plain": [
       "<GEOMETRYCOLLECTION (POINT (-99.133 19.433), POINT (-99.136 19.434), POINT (...>"
      ]
     },
     "execution_count": 24,
     "metadata": {},
     "output_type": "execute_result"
    }
   ],
   "source": [
    "import json\n",
    "import shapely\n",
    "\n",
    "with open(\"geojsons/mx1.geojson\") as f:\n",
    "    geo1 = json.load(f)\n",
    "\n",
    "with open(\"geojsons/mx3.geojson\") as f:\n",
    "    geo2 = json.load(f)\n",
    "\n",
    "gc1 = shapely.from_geojson(json.dumps(geo1))\n",
    "gc2 = shapely.from_geojson(json.dumps(geo2))\n",
    "\n",
    "gc1"
   ]
  },
  {
   "cell_type": "code",
   "execution_count": 19,
   "id": "589b4c0d-58d0-4ab4-bbb4-1b1dca005ed2",
   "metadata": {},
   "outputs": [
    {
     "data": {
      "image/svg+xml": [
       "<svg xmlns=\"http://www.w3.org/2000/svg\" xmlns:xlink=\"http://www.w3.org/1999/xlink\" width=\"100.0\" height=\"100.0\" viewBox=\"-99.14706323005346 19.432859912131576 0.01466315448520561 0.0049001723736239455\" preserveAspectRatio=\"xMinYMin meet\"><g transform=\"matrix(1,0,0,-1,0,38.870619996636776)\"><g><circle cx=\"-99.132943155364\" cy=\"19.433402991927323\" r=\"0.00043989463455616827\" stroke=\"#555555\" stroke-width=\"0.0001466315448520561\" fill=\"#66cc99\" opacity=\"0.6\" /><circle cx=\"-99.13514583922854\" cy=\"19.43410712410612\" r=\"0.00043989463455616827\" stroke=\"#555555\" stroke-width=\"0.0001466315448520561\" fill=\"#66cc99\" opacity=\"0.6\" /><circle cx=\"-99.13754763575874\" cy=\"19.434377040631844\" r=\"0.00043989463455616827\" stroke=\"#555555\" stroke-width=\"0.0001466315448520561\" fill=\"#66cc99\" opacity=\"0.6\" /><circle cx=\"-99.1398374314144\" cy=\"19.434670427651582\" r=\"0.00043989463455616827\" stroke=\"#555555\" stroke-width=\"0.0001466315448520561\" fill=\"#66cc99\" opacity=\"0.6\" /><circle cx=\"-99.14106944103362\" cy=\"19.4342362146742\" r=\"0.00043989463455616827\" stroke=\"#555555\" stroke-width=\"0.0001466315448520561\" fill=\"#66cc99\" opacity=\"0.6\" /><circle cx=\"-99.14401879739445\" cy=\"19.43475257592233\" r=\"0.00043989463455616827\" stroke=\"#555555\" stroke-width=\"0.0001466315448520561\" fill=\"#66cc99\" opacity=\"0.6\" /><circle cx=\"-99.14485258168237\" cy=\"19.436289914459223\" r=\"0.00043989463455616827\" stroke=\"#555555\" stroke-width=\"0.0001466315448520561\" fill=\"#66cc99\" opacity=\"0.6\" /><circle cx=\"-99.14652015025771\" cy=\"19.437217004709453\" r=\"0.00043989463455616827\" stroke=\"#555555\" stroke-width=\"0.0001466315448520561\" fill=\"#66cc99\" opacity=\"0.6\" /></g></g></svg>"
      ],
      "text/plain": [
       "<GEOMETRYCOLLECTION (POINT (-99.133 19.433), POINT (-99.135 19.434), POINT (...>"
      ]
     },
     "execution_count": 19,
     "metadata": {},
     "output_type": "execute_result"
    }
   ],
   "source": [
    "gc2"
   ]
  },
  {
   "cell_type": "markdown",
   "id": "eac989c6-9293-4455-af7e-dc924561a9a5",
   "metadata": {},
   "source": [
    "## Cálculo de distancias con puntos de mismo tamaño"
   ]
  },
  {
   "cell_type": "code",
   "execution_count": 20,
   "id": "b80ce495-44eb-4d3a-90a1-9ca941212fdc",
   "metadata": {},
   "outputs": [
    {
     "data": {
      "text/plain": [
       "1.350515095718982e-05"
      ]
     },
     "execution_count": 20,
     "metadata": {},
     "output_type": "execute_result"
    }
   ],
   "source": [
    "shapely.distance(gc1, gc2)"
   ]
  },
  {
   "cell_type": "code",
   "execution_count": 21,
   "id": "24544c0c-022d-4fd5-82fd-5394ca53c82d",
   "metadata": {},
   "outputs": [
    {
     "data": {
      "text/plain": [
       "0.002195429667807937"
      ]
     },
     "execution_count": 21,
     "metadata": {},
     "output_type": "execute_result"
    }
   ],
   "source": [
    "shapely.hausdorff_distance(gc1, gc2)"
   ]
  },
  {
   "cell_type": "code",
   "execution_count": 22,
   "id": "35f6cd82-b342-453a-ab8c-d3a5c769c513",
   "metadata": {},
   "outputs": [
    {
     "data": {
      "text/plain": [
       "0.002195429667807937"
      ]
     },
     "execution_count": 22,
     "metadata": {},
     "output_type": "execute_result"
    }
   ],
   "source": [
    "shapely.frechet_distance(gc1, gc2)"
   ]
  },
  {
   "cell_type": "markdown",
   "id": "fdd6a61a-9514-437f-a57b-19026006fa37",
   "metadata": {},
   "source": [
    "## Cálculo de distancias con puntos de distinto tamaño\n",
    "Usando Geopandas y Shapely"
   ]
  },
  {
   "cell_type": "code",
   "execution_count": 28,
   "id": "1a215bdd-cb85-4983-b4f1-f1ed99424f66",
   "metadata": {},
   "outputs": [
    {
     "name": "stderr",
     "output_type": "stream",
     "text": [
      "/tmp/ipykernel_26585/3370166338.py:3: UserWarning: The indices of the two GeoSeries are different.\n",
      "  gdf1.distance(gdf3), gdf1.hausdorff_distance(gdf3), gdf1.frechet_distance(gdf3)\n",
      "/tmp/ipykernel_26585/3370166338.py:3: UserWarning: Geometry is in a geographic CRS. Results from 'distance' are likely incorrect. Use 'GeoSeries.to_crs()' to re-project geometries to a projected CRS before this operation.\n",
      "\n",
      "  gdf1.distance(gdf3), gdf1.hausdorff_distance(gdf3), gdf1.frechet_distance(gdf3)\n",
      "/tmp/ipykernel_26585/3370166338.py:3: UserWarning: The indices of the two GeoSeries are different.\n",
      "  gdf1.distance(gdf3), gdf1.hausdorff_distance(gdf3), gdf1.frechet_distance(gdf3)\n",
      "/tmp/ipykernel_26585/3370166338.py:3: UserWarning: Geometry is in a geographic CRS. Results from 'hausdorff_distance' are likely incorrect. Use 'GeoSeries.to_crs()' to re-project geometries to a projected CRS before this operation.\n",
      "\n",
      "  gdf1.distance(gdf3), gdf1.hausdorff_distance(gdf3), gdf1.frechet_distance(gdf3)\n",
      "/tmp/ipykernel_26585/3370166338.py:3: UserWarning: The indices of the two GeoSeries are different.\n",
      "  gdf1.distance(gdf3), gdf1.hausdorff_distance(gdf3), gdf1.frechet_distance(gdf3)\n",
      "/tmp/ipykernel_26585/3370166338.py:3: UserWarning: Geometry is in a geographic CRS. Results from 'frechet_distance' are likely incorrect. Use 'GeoSeries.to_crs()' to re-project geometries to a projected CRS before this operation.\n",
      "\n",
      "  gdf1.distance(gdf3), gdf1.hausdorff_distance(gdf3), gdf1.frechet_distance(gdf3)\n"
     ]
    },
    {
     "data": {
      "text/plain": [
       "(0     0.000271\n",
       " 1     0.000980\n",
       " 2     0.002070\n",
       " 3     0.001353\n",
       " 4     0.001097\n",
       " 5     0.000920\n",
       " 6     0.001910\n",
       " 7     0.002302\n",
       " 8          NaN\n",
       " 9          NaN\n",
       " 10         NaN\n",
       " dtype: float64,\n",
       " 0     0.000271\n",
       " 1     0.000980\n",
       " 2     0.002070\n",
       " 3     0.001353\n",
       " 4     0.001097\n",
       " 5     0.000920\n",
       " 6     0.001910\n",
       " 7     0.002302\n",
       " 8          NaN\n",
       " 9          NaN\n",
       " 10         NaN\n",
       " dtype: float64,\n",
       " 0     0.000271\n",
       " 1     0.000980\n",
       " 2     0.002070\n",
       " 3     0.001353\n",
       " 4     0.001097\n",
       " 5     0.000920\n",
       " 6     0.001910\n",
       " 7     0.002302\n",
       " 8          NaN\n",
       " 9          NaN\n",
       " 10         NaN\n",
       " dtype: float64)"
      ]
     },
     "execution_count": 28,
     "metadata": {},
     "output_type": "execute_result"
    }
   ],
   "source": [
    "gdf3 = geopandas.read_file(\"geojsons/mx2.geojson\")\n",
    "\n",
    "gdf1.distance(gdf3), gdf1.hausdorff_distance(gdf3), gdf1.frechet_distance(gdf3)"
   ]
  },
  {
   "cell_type": "code",
   "execution_count": 29,
   "id": "7baa436e-0777-4d04-8f14-66f88d1af260",
   "metadata": {},
   "outputs": [
    {
     "data": {
      "text/plain": [
       "(0.000270855242489912, 0.0015387486159673845, 0.001955097561137056)"
      ]
     },
     "execution_count": 29,
     "metadata": {},
     "output_type": "execute_result"
    }
   ],
   "source": [
    "with open(\"geojsons/mx2.geojson\") as f:\n",
    "    geo3 = json.load(f)\n",
    "\n",
    "gc3 = shapely.from_geojson(json.dumps(geo3))\n",
    "\n",
    "shapely.distance(gc1, gc3), shapely.hausdorff_distance(gc1, gc3), shapely.frechet_distance(gc1, gc3)"
   ]
  },
  {
   "cell_type": "markdown",
   "id": "5a332c8e-c2f6-4868-bb17-2ca07ccf8732",
   "metadata": {},
   "source": [
    "## Complejidad\n",
    "Shapely a su vez hace uso de una libreria escrita en C/C++ [GEOS](https://libgeos.org/) para realizar el cálculo de estas distancias y acorde a esta librería la complejidad puede variar de distintos factores tales como:\n",
    "\n",
    "- La complejidad geométrica\n",
    "- Implementación tanto en Shapely como en GEOS\n",
    "\n",
    "No obstante, la complejidad de estos algoritmos son típicamente:\n",
    "\n",
    "- Distancia euclideana: O(1)\n",
    "- Distancia Hausdorff\n",
    "    - O(n²) cuando la complejidad geométrica de ambas figuras es compleja y requiere de muchas comparaciones\n",
    "    - O(nlogn) cuando no las figuras son más simples y hay optimizaciones implementadas\n",
    "- Distancia Frechet: O(n²)"
   ]
  }
 ],
 "metadata": {
  "kernelspec": {
   "display_name": "Python 3 (ipykernel)",
   "language": "python",
   "name": "python3"
  },
  "language_info": {
   "codemirror_mode": {
    "name": "ipython",
    "version": 3
   },
   "file_extension": ".py",
   "mimetype": "text/x-python",
   "name": "python",
   "nbconvert_exporter": "python",
   "pygments_lexer": "ipython3",
   "version": "3.11.7"
  }
 },
 "nbformat": 4,
 "nbformat_minor": 5
}
